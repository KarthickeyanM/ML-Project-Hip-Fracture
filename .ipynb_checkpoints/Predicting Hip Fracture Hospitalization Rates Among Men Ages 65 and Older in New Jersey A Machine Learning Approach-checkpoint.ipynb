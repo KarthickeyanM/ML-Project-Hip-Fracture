{
 "cells": [
  {
   "cell_type": "code",
   "execution_count": 1,
   "id": "083d35f0",
   "metadata": {},
   "outputs": [],
   "source": [
    "import pandas as pd\n",
    "import numpy as np\n",
    "import matplotlib.pyplot as plt\n",
    "from sklearn.model_selection import train_test_split\n",
    "from sklearn.linear_model import LinearRegression\n",
    "import sklearn.metrics as metrics\n",
    "from sklearn.metrics import mean_squared_error, mean_absolute_error, r2_score"
   ]
  },
  {
   "cell_type": "markdown",
   "id": "88894c82",
   "metadata": {},
   "source": [
    "# DATA COLLECTION AND EXPLORATION "
   ]
  },
  {
   "cell_type": "code",
   "execution_count": 2,
   "id": "71d5fb0a",
   "metadata": {},
   "outputs": [],
   "source": [
    "# Load the dataset\n",
    "df = pd.read_csv(\"Hip_fracture_hospitalization_rate_among_men_ages_65_and_older__New_Jersey__by_year__Beginning_2010.csv\")"
   ]
  },
  {
   "cell_type": "code",
   "execution_count": 3,
   "id": "c578e6c1",
   "metadata": {},
   "outputs": [
    {
     "name": "stdout",
     "output_type": "stream",
     "text": [
      "Dataset shape: (45, 3)\n"
     ]
    }
   ],
   "source": [
    "# Check the structure of the dataset\n",
    "print(\"Dataset shape:\", df.shape)"
   ]
  },
  {
   "cell_type": "code",
   "execution_count": 4,
   "id": "f33f57d5",
   "metadata": {},
   "outputs": [
    {
     "name": "stdout",
     "output_type": "stream",
     "text": [
      "\n",
      "Column names and data types:\n",
      "Data Year        object\n",
      "Race             object\n",
      "Rate Per lakh     int64\n",
      "dtype: object\n"
     ]
    }
   ],
   "source": [
    "print(\"\\nColumn names and data types:\")\n",
    "print(df.dtypes)"
   ]
  },
  {
   "cell_type": "code",
   "execution_count": 5,
   "id": "948e0a3b",
   "metadata": {},
   "outputs": [
    {
     "name": "stdout",
     "output_type": "stream",
     "text": [
      "\n",
      "First few rows of the dataset:\n",
      "  Data Year      Race  Rate Per lakh\n",
      "0      2010       All            362\n",
      "1      2010     White            407\n",
      "2      2010     Black            201\n",
      "3      2010  Hispanic            205\n",
      "4      2010     Asian            107\n"
     ]
    }
   ],
   "source": [
    "print(\"\\nFirst few rows of the dataset:\")\n",
    "print(df.head())"
   ]
  },
  {
   "cell_type": "code",
   "execution_count": 6,
   "id": "bb1ff013",
   "metadata": {},
   "outputs": [
    {
     "name": "stdout",
     "output_type": "stream",
     "text": [
      "<class 'pandas.core.frame.DataFrame'>\n",
      "RangeIndex: 45 entries, 0 to 44\n",
      "Data columns (total 3 columns):\n",
      " #   Column         Non-Null Count  Dtype \n",
      "---  ------         --------------  ----- \n",
      " 0   Data Year      45 non-null     object\n",
      " 1   Race           45 non-null     object\n",
      " 2   Rate Per lakh  45 non-null     int64 \n",
      "dtypes: int64(1), object(2)\n",
      "memory usage: 1.2+ KB\n"
     ]
    }
   ],
   "source": [
    "df.info()"
   ]
  },
  {
   "cell_type": "code",
   "execution_count": 7,
   "id": "9bbc7871",
   "metadata": {},
   "outputs": [
    {
     "name": "stdout",
     "output_type": "stream",
     "text": [
      "\n",
      "Summary statistics of numerical columns:\n",
      "       Rate Per lakh\n",
      "count      45.000000\n",
      "mean      235.044444\n",
      "std       111.824732\n",
      "min        95.000000\n",
      "25%       141.000000\n",
      "50%       188.000000\n",
      "75%       353.000000\n",
      "max       407.000000\n"
     ]
    }
   ],
   "source": [
    "# Summary statistics\n",
    "print(\"\\nSummary statistics of numerical columns:\")\n",
    "print(df.describe())\n",
    "\n"
   ]
  },
  {
   "cell_type": "code",
   "execution_count": 8,
   "id": "15f5818a",
   "metadata": {},
   "outputs": [
    {
     "name": "stdout",
     "output_type": "stream",
     "text": [
      "\n",
      "Missing values in the dataset:\n",
      "Data Year        0\n",
      "Race             0\n",
      "Rate Per lakh    0\n",
      "dtype: int64\n"
     ]
    }
   ],
   "source": [
    "# Check for missing values\n",
    "print(\"\\nMissing values in the dataset:\")\n",
    "print(df.isnull().sum())\n"
   ]
  },
  {
   "cell_type": "markdown",
   "id": "3a2bac59",
   "metadata": {},
   "source": [
    "# DATA PREPROCESSING"
   ]
  },
  {
   "cell_type": "code",
   "execution_count": 9,
   "id": "2dbd8a24",
   "metadata": {},
   "outputs": [
    {
     "name": "stdout",
     "output_type": "stream",
     "text": [
      "Missing values in the dataset:\n",
      "Data Year        0\n",
      "Race             0\n",
      "Rate Per lakh    0\n",
      "dtype: int64\n"
     ]
    }
   ],
   "source": [
    "# Check for missing values\n",
    "print(\"Missing values in the dataset:\")\n",
    "print(df.isnull().sum())"
   ]
  },
  {
   "cell_type": "code",
   "execution_count": 10,
   "id": "e93278d4",
   "metadata": {},
   "outputs": [],
   "source": [
    "# Dropping rows with Unnecessary values(target data)\n",
    "df.drop(range(40, 45), axis=0, inplace=True)"
   ]
  },
  {
   "cell_type": "code",
   "execution_count": 11,
   "id": "b517445f",
   "metadata": {},
   "outputs": [],
   "source": [
    "# Drop any rows with missing values\n",
    "df.dropna(inplace=True)"
   ]
  },
  {
   "cell_type": "code",
   "execution_count": 12,
   "id": "e25dff0a",
   "metadata": {},
   "outputs": [],
   "source": [
    "# Convert 'Race' column to categorical\n",
    "df['Race'] = df['Race'].astype('category')\n",
    "\n",
    "# One-hot encode categorical columns\n",
    "df = pd.get_dummies(df, columns=['Race'])"
   ]
  },
  {
   "cell_type": "code",
   "execution_count": 13,
   "id": "aa1cff69",
   "metadata": {},
   "outputs": [],
   "source": [
    "# Separate features (X) and target variable (y)\n",
    "X = df.drop(columns=['Rate Per lakh'])\n",
    "y = df['Rate Per lakh']"
   ]
  },
  {
   "cell_type": "code",
   "execution_count": 14,
   "id": "c3813f6c",
   "metadata": {},
   "outputs": [
    {
     "name": "stdout",
     "output_type": "stream",
     "text": [
      "\n",
      "Preprocessed dataset:\n",
      "  Data Year  Race_All  Race_Asian  Race_Black  Race_Hispanic  Race_White\n",
      "0      2010      True       False       False          False       False\n",
      "1      2010     False       False       False          False        True\n",
      "2      2010     False       False        True          False       False\n",
      "3      2010     False       False       False           True       False\n",
      "4      2010     False        True       False          False       False\n"
     ]
    }
   ],
   "source": [
    "# Display the preprocessed dataset\n",
    "print(\"\\nPreprocessed dataset:\")\n",
    "print(X.head())"
   ]
  },
  {
   "cell_type": "code",
   "execution_count": 15,
   "id": "9812007e",
   "metadata": {
    "scrolled": true
   },
   "outputs": [],
   "source": [
    "# Drop rows with NaN values in 'Data Year'\n",
    "X.dropna(subset=['Data Year'], inplace=True)"
   ]
  },
  {
   "cell_type": "code",
   "execution_count": 16,
   "id": "03435783",
   "metadata": {},
   "outputs": [],
   "source": [
    "#Matching the index values of both X and Y\n",
    "y = y.loc[X.index]"
   ]
  },
  {
   "cell_type": "markdown",
   "id": "af7f497a",
   "metadata": {},
   "source": [
    "# EXPLORATORY DATA ANALYSIS"
   ]
  },
  {
   "cell_type": "code",
   "execution_count": 17,
   "id": "3275bd17",
   "metadata": {},
   "outputs": [
    {
     "data": {
      "image/png": "[encoded data removed]",
      "text/plain": [
       "<Figure size 800x600 with 1 Axes>"
      ]
     },
     "metadata": {},
     "output_type": "display_data"
    }
   ],
   "source": [
    "# Visualize the distribution of 'Rate Per lakh' using a box plot\n",
    "plt.figure(figsize=(8, 6))\n",
    "plt.boxplot(df['Rate Per lakh'], vert=False)\n",
    "plt.title('Box Plot of Rate Per lakh')\n",
    "plt.ylabel('Rate Per lakh')\n",
    "plt.show()"
   ]
  },
  {
   "cell_type": "markdown",
   "id": "a7251a9c",
   "metadata": {},
   "source": [
    "# MODEL SELECTION AND TRAINING"
   ]
  },
  {
   "cell_type": "code",
   "execution_count": 18,
   "id": "e61e08af",
   "metadata": {},
   "outputs": [],
   "source": [
    "# Split the dataset into training and testing sets (80% train, 20% test)\n",
    "X_train, X_test, y_train, y_test = train_test_split(X, y, test_size=0.2, random_state=42)"
   ]
  },
  {
   "cell_type": "code",
   "execution_count": 19,
   "id": "7a61991b",
   "metadata": {},
   "outputs": [],
   "source": [
    "# Initialize the linear regression model\n",
    "model = LinearRegression()"
   ]
  },
  {
   "cell_type": "code",
   "execution_count": 20,
   "id": "379a6229",
   "metadata": {},
   "outputs": [
    {
     "data": {
      "text/html": [
       "<style>#sk-container-id-1 {color: black;}#sk-container-id-1 pre{padding: 0;}#sk-container-id-1 div.sk-toggleable {background-color: white;}#sk-container-id-1 label.sk-toggleable__label {cursor: pointer;display: block;width: 100%;margin-bottom: 0;padding: 0.3em;box-sizing: border-box;text-align: center;}#sk-container-id-1 label.sk-toggleable__label-arrow:before {content: \"▸\";float: left;margin-right: 0.25em;color: #696969;}#sk-container-id-1 label.sk-toggleable__label-arrow:hover:before {color: black;}#sk-container-id-1 div.sk-estimator:hover label.sk-toggleable__label-arrow:before {color: black;}#sk-container-id-1 div.sk-toggleable__content {max-height: 0;max-width: 0;overflow: hidden;text-align: left;background-color: #f0f8ff;}#sk-container-id-1 div.sk-toggleable__content pre {margin: 0.2em;color: black;border-radius: 0.25em;background-color: #f0f8ff;}#sk-container-id-1 input.sk-toggleable__control:checked~div.sk-toggleable__content {max-height: 200px;max-width: 100%;overflow: auto;}#sk-container-id-1 input.sk-toggleable__control:checked~label.sk-toggleable__label-arrow:before {content: \"▾\";}#sk-container-id-1 div.sk-estimator input.sk-toggleable__control:checked~label.sk-toggleable__label {background-color: #d4ebff;}#sk-container-id-1 div.sk-label input.sk-toggleable__control:checked~label.sk-toggleable__label {background-color: #d4ebff;}#sk-container-id-1 input.sk-hidden--visually {border: 0;clip: rect(1px 1px 1px 1px);clip: rect(1px, 1px, 1px, 1px);height: 1px;margin: -1px;overflow: hidden;padding: 0;position: absolute;width: 1px;}#sk-container-id-1 div.sk-estimator {font-family: monospace;background-color: #f0f8ff;border: 1px dotted black;border-radius: 0.25em;box-sizing: border-box;margin-bottom: 0.5em;}#sk-container-id-1 div.sk-estimator:hover {background-color: #d4ebff;}#sk-container-id-1 div.sk-parallel-item::after {content: \"\";width: 100%;border-bottom: 1px solid gray;flex-grow: 1;}#sk-container-id-1 div.sk-label:hover label.sk-toggleable__label {background-color: #d4ebff;}#sk-container-id-1 div.sk-serial::before {content: \"\";position: absolute;border-left: 1px solid gray;box-sizing: border-box;top: 0;bottom: 0;left: 50%;z-index: 0;}#sk-container-id-1 div.sk-serial {display: flex;flex-direction: column;align-items: center;background-color: white;padding-right: 0.2em;padding-left: 0.2em;position: relative;}#sk-container-id-1 div.sk-item {position: relative;z-index: 1;}#sk-container-id-1 div.sk-parallel {display: flex;align-items: stretch;justify-content: center;background-color: white;position: relative;}#sk-container-id-1 div.sk-item::before, #sk-container-id-1 div.sk-parallel-item::before {content: \"\";position: absolute;border-left: 1px solid gray;box-sizing: border-box;top: 0;bottom: 0;left: 50%;z-index: -1;}#sk-container-id-1 div.sk-parallel-item {display: flex;flex-direction: column;z-index: 1;position: relative;background-color: white;}#sk-container-id-1 div.sk-parallel-item:first-child::after {align-self: flex-end;width: 50%;}#sk-container-id-1 div.sk-parallel-item:last-child::after {align-self: flex-start;width: 50%;}#sk-container-id-1 div.sk-parallel-item:only-child::after {width: 0;}#sk-container-id-1 div.sk-dashed-wrapped {border: 1px dashed gray;margin: 0 0.4em 0.5em 0.4em;box-sizing: border-box;padding-bottom: 0.4em;background-color: white;}#sk-container-id-1 div.sk-label label {font-family: monospace;font-weight: bold;display: inline-block;line-height: 1.2em;}#sk-container-id-1 div.sk-label-container {text-align: center;}#sk-container-id-1 div.sk-container {/* jupyter's `normalize.less` sets `[hidden] { display: none; }` but bootstrap.min.css set `[hidden] { display: none !important; }` so we also need the `!important` here to be able to override the default hidden behavior on the sphinx rendered scikit-learn.org. See: https://github.com/scikit-learn/scikit-learn/issues/21755 */display: inline-block !important;position: relative;}#sk-container-id-1 div.sk-text-repr-fallback {display: none;}</style><div id=\"sk-container-id-1\" class=\"sk-top-container\"><div class=\"sk-text-repr-fallback\"><pre>LinearRegression()</pre><b>In a Jupyter environment, please rerun this cell to show the HTML representation or trust the notebook. <br />On GitHub, the HTML representation is unable to render, please try loading this page with nbviewer.org.</b></div><div class=\"sk-container\" hidden><div class=\"sk-item\"><div class=\"sk-estimator sk-toggleable\"><input class=\"sk-toggleable__control sk-hidden--visually\" id=\"sk-estimator-id-1\" type=\"checkbox\" checked><label for=\"sk-estimator-id-1\" class=\"sk-toggleable__label sk-toggleable__label-arrow\">LinearRegression</label><div class=\"sk-toggleable__content\"><pre>LinearRegression()</pre></div></div></div></div></div>"
      ],
      "text/plain": [
       "LinearRegression()"
      ]
     },
     "execution_count": 20,
     "metadata": {},
     "output_type": "execute_result"
    }
   ],
   "source": [
    "# Train the model on the training data\n",
    "model.fit(X_train, y_train)"
   ]
  },
  {
   "cell_type": "code",
   "execution_count": 21,
   "id": "70592f64",
   "metadata": {},
   "outputs": [],
   "source": [
    "y_pred = model.predict(X_test)"
   ]
  },
  {
   "cell_type": "code",
   "execution_count": 22,
   "id": "baaf83dd",
   "metadata": {},
   "outputs": [
    {
     "data": {
      "text/plain": [
       "array([110.92281076, 398.04160615, 344.61303472, 102.27718924,\n",
       "       123.89124303, 189.65824861, 168.04419482, 176.68981633])"
      ]
     },
     "execution_count": 22,
     "metadata": {},
     "output_type": "execute_result"
    }
   ],
   "source": [
    "y_pred"
   ]
  },
  {
   "cell_type": "markdown",
   "id": "9e092874",
   "metadata": {},
   "source": [
    "# MODEL EVALUATION AND INTERPRETATON"
   ]
  },
  {
   "cell_type": "code",
   "execution_count": 23,
   "id": "0a8c2d4b",
   "metadata": {},
   "outputs": [
    {
     "name": "stdout",
     "output_type": "stream",
     "text": [
      "Mean Squared Error (MSE): 335.0581372398385\n",
      "R-squared (R2) Score: 0.9640504601323571\n"
     ]
    }
   ],
   "source": [
    "#Evaluate the model\n",
    "mse = mean_squared_error(y_test, y_pred)\n",
    "r2=r2_score(y_test, y_pred)\n",
    "\n",
    "print(\"Mean Squared Error (MSE):\", mse)\n",
    "print(\"R-squared (R2) Score:\", r2)"
   ]
  },
  {
   "cell_type": "code",
   "execution_count": 24,
   "id": "f9eb0139",
   "metadata": {},
   "outputs": [
    {
     "name": "stdout",
     "output_type": "stream",
     "text": [
      "model intercept : 8942.957914070192\n",
      "model coefficients :  [  -4.32281076  103.47317575 -130.21704821  -55.80442112  -74.35345359\n",
      "  156.90174718]\n",
      "Model score :  0.9812644381735647\n"
     ]
    }
   ],
   "source": [
    "# summary of the model \n",
    "print('model intercept :', model.intercept_) \n",
    "print('model coefficients : ', model.coef_) \n",
    "print('Model score : ', model.score(X, y))"
   ]
  },
  {
   "cell_type": "code",
   "execution_count": 25,
   "id": "9f7544b9",
   "metadata": {},
   "outputs": [
    {
     "name": "stdout",
     "output_type": "stream",
     "text": [
      "explained_variance:  0.9647\n",
      "mean_squared_log_error:  0.0157\n",
      "r2:  0.9641\n",
      "MAE:  16.0812\n",
      "MSE:  335.0581\n",
      "RMSE:  18.3046\n"
     ]
    }
   ],
   "source": [
    "explained_variance=metrics.explained_variance_score(y_test, y_pred)\n",
    "mean_absolute_error=metrics.mean_absolute_error(y_test, y_pred) \n",
    "mse=metrics.mean_squared_error(y_test, y_pred) \n",
    "mean_squared_log_error=metrics.mean_squared_log_error(y_test, y_pred)\n",
    "median_absolute_error=metrics.median_absolute_error(y_test, y_pred)\n",
    "r2=metrics.r2_score(y_test, y_pred)\n",
    "\n",
    "print('explained_variance: ', round(explained_variance,4))    \n",
    "print('mean_squared_log_error: ', round(mean_squared_log_error,4))\n",
    "print('r2: ', round(r2,4))\n",
    "print('MAE: ', round(mean_absolute_error,4))\n",
    "print('MSE: ', round(mse,4))\n",
    "print('RMSE: ', round(np.sqrt(mse),4))"
   ]
  },
  {
   "cell_type": "markdown",
   "id": "4d898be8",
   "metadata": {},
   "source": [
    "# VISUALISING THE MODEL'S PERFORMANCE"
   ]
  },
  {
   "cell_type": "code",
   "execution_count": 26,
   "id": "ba4cd010",
   "metadata": {},
   "outputs": [
    {
     "data": {
      "image/png": "[encoded data removed]",
      "text/plain": [
       "<Figure size 640x480 with 1 Axes>"
      ]
     },
     "metadata": {},
     "output_type": "display_data"
    },
    {
     "data": {
      "image/png": "[encoded data removed]",
      "text/plain": [
       "<Figure size 640x480 with 1 Axes>"
      ]
     },
     "metadata": {},
     "output_type": "display_data"
    }
   ],
   "source": [
    "\n",
    "# Plot actual vs. predicted values\n",
    "plt.scatter(y_test, y_pred)\n",
    "plt.xlabel(\"Actual Values\")\n",
    "plt.ylabel(\"Predicted Values\")\n",
    "plt.title(\"Actual vs. Predicted Values\")\n",
    "plt.show()\n",
    "\n",
    "# Plot residuals\n",
    "residuals = y_test - y_pred\n",
    "plt.scatter(y_pred, residuals)\n",
    "plt.xlabel(\"Predicted Values\")\n",
    "plt.ylabel(\"Residuals\")\n",
    "plt.title(\"Residuals Plot\")\n",
    "plt.axhline(y=0, color='r', linestyle='-')\n",
    "plt.show()\n"
   ]
  },
  {
   "cell_type": "code",
   "execution_count": null,
   "id": "64bd8bd3",
   "metadata": {},
   "outputs": [],
   "source": []
  }
 ],
 "metadata": {
  "kernelspec": {
   "display_name": "Python 3 (ipykernel)",
   "language": "python",
   "name": "python3"
  },
  "language_info": {
   "codemirror_mode": {
    "name": "ipython",
    "version": 3
   },
   "file_extension": ".py",
   "mimetype": "text/x-python",
   "name": "python",
   "nbconvert_exporter": "python",
   "pygments_lexer": "ipython3",
   "version": "3.11.5"
  }
 },
 "nbformat": 4,
 "nbformat_minor": 5
}
